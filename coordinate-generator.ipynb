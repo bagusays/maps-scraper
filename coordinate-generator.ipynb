{
 "cells": [
  {
   "cell_type": "markdown",
   "id": "9c7cf1b2",
   "metadata": {},
   "source": [
    "Kanan = Longitude (horizontal) <br>\n",
    "Kiri  = Latitude (vertical)"
   ]
  },
  {
   "cell_type": "code",
   "execution_count": 24,
   "id": "f6d8c989",
   "metadata": {},
   "outputs": [],
   "source": [
    "import pandas as pd\n",
    "import json\n",
    "import time\n",
    "import numpy as np"
   ]
  },
  {
   "cell_type": "code",
   "execution_count": 25,
   "id": "a95b4093",
   "metadata": {},
   "outputs": [],
   "source": [
    "start_latitude  = -6.8920994\n",
    "start_longitude = 112.8606966\n",
    "\n",
    "end_latitude  = -6.9292877\n",
    "end_longitude = 114.1354177\n",
    "\n",
    "adder_latitude  = 0.0045907\n",
    "adder_longitude = 0.0098598"
   ]
  },
  {
   "cell_type": "code",
   "execution_count": 26,
   "id": "42798a6d",
   "metadata": {
    "scrolled": true
   },
   "outputs": [],
   "source": [
    "current_latitude  = start_latitude\n",
    "current_longitude = start_longitude\n",
    "\n",
    "data = []\n",
    "\n",
    "while True:\n",
    "    while True:\n",
    "        data.append([\n",
    "            current_latitude, \n",
    "            current_longitude, \n",
    "            #\"https://www.google.com/maps/@{},{},371m/data=!3m1!1e3\".format(current_latitude, current_longitude)\n",
    "        ])\n",
    "        \n",
    "        current_longitude += adder_longitude\n",
    "        if current_longitude >= end_longitude:\n",
    "            current_longitude = start_longitude\n",
    "            break\n",
    "    \n",
    "    # print(\"---------------------------\")\n",
    "    current_latitude -= adder_latitude\n",
    "    if current_latitude <= end_latitude:\n",
    "        break"
   ]
  },
  {
   "cell_type": "code",
   "execution_count": 27,
   "id": "74ed79b7",
   "metadata": {
    "scrolled": false
   },
   "outputs": [
    {
     "data": {
      "text/html": [
       "<div>\n",
       "<style scoped>\n",
       "    .dataframe tbody tr th:only-of-type {\n",
       "        vertical-align: middle;\n",
       "    }\n",
       "\n",
       "    .dataframe tbody tr th {\n",
       "        vertical-align: top;\n",
       "    }\n",
       "\n",
       "    .dataframe thead th {\n",
       "        text-align: right;\n",
       "    }\n",
       "</style>\n",
       "<table border=\"1\" class=\"dataframe\">\n",
       "  <thead>\n",
       "    <tr style=\"text-align: right;\">\n",
       "      <th></th>\n",
       "      <th>latitude</th>\n",
       "      <th>longitude</th>\n",
       "    </tr>\n",
       "  </thead>\n",
       "  <tbody>\n",
       "    <tr>\n",
       "      <th>0</th>\n",
       "      <td>-6.892099</td>\n",
       "      <td>112.860697</td>\n",
       "    </tr>\n",
       "    <tr>\n",
       "      <th>1</th>\n",
       "      <td>-6.892099</td>\n",
       "      <td>112.870556</td>\n",
       "    </tr>\n",
       "    <tr>\n",
       "      <th>2</th>\n",
       "      <td>-6.892099</td>\n",
       "      <td>112.880416</td>\n",
       "    </tr>\n",
       "    <tr>\n",
       "      <th>3</th>\n",
       "      <td>-6.892099</td>\n",
       "      <td>112.890276</td>\n",
       "    </tr>\n",
       "    <tr>\n",
       "      <th>4</th>\n",
       "      <td>-6.892099</td>\n",
       "      <td>112.900136</td>\n",
       "    </tr>\n",
       "  </tbody>\n",
       "</table>\n",
       "</div>"
      ],
      "text/plain": [
       "   latitude   longitude\n",
       "0 -6.892099  112.860697\n",
       "1 -6.892099  112.870556\n",
       "2 -6.892099  112.880416\n",
       "3 -6.892099  112.890276\n",
       "4 -6.892099  112.900136"
      ]
     },
     "execution_count": 27,
     "metadata": {},
     "output_type": "execute_result"
    }
   ],
   "source": [
    "df = pd.DataFrame(data)\n",
    "df.columns = [\n",
    "    'latitude', \n",
    "    'longitude', \n",
    "    #'link'\n",
    "]\n",
    "df.head(5)"
   ]
  },
  {
   "cell_type": "code",
   "execution_count": 28,
   "id": "946dbf99",
   "metadata": {},
   "outputs": [],
   "source": [
    "df.to_csv(\"coordinate.csv\", index=False)"
   ]
  },
  {
   "cell_type": "code",
   "execution_count": null,
   "id": "337c8df9",
   "metadata": {},
   "outputs": [],
   "source": []
  }
 ],
 "metadata": {
  "kernelspec": {
   "display_name": "Python 3 (ipykernel)",
   "language": "python",
   "name": "python3"
  },
  "language_info": {
   "codemirror_mode": {
    "name": "ipython",
    "version": 3
   },
   "file_extension": ".py",
   "mimetype": "text/x-python",
   "name": "python",
   "nbconvert_exporter": "python",
   "pygments_lexer": "ipython3",
   "version": "3.10.5"
  }
 },
 "nbformat": 4,
 "nbformat_minor": 5
}
